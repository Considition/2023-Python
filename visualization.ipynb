{
 "cells": [
  {
   "cell_type": "code",
   "execution_count": null,
   "metadata": {},
   "outputs": [],
   "source": [
    "import json\n",
    "import folium\n",
    "import requests\n",
    "from data_keys import ScoringKeys as SK, LocationKeys as LK, CoordinateKeys as CK\n",
    "from api import getGeneralData, getMapData, getGame\n",
    "from dotenv import load_dotenv\n",
    "import os"
   ]
  },
  {
   "cell_type": "markdown",
   "metadata": {},
   "source": [
    "# Load Game <br>\n",
    "Enter one of the game id stored in folder my_games"
   ]
  },
  {
   "cell_type": "code",
   "execution_count": null,
   "metadata": {},
   "outputs": [],
   "source": [
    "load_dotenv()\n",
    "apiKey = os.environ[\"apiKey\"]\n",
    "id_ = input(\"Enter game id: \")"
   ]
  },
  {
   "cell_type": "code",
   "execution_count": null,
   "metadata": {},
   "outputs": [],
   "source": [
    "game = {}\n",
    "print(f\"1: Fetch local game\")\n",
    "print(f\"2: Fetch game from Considtion\")\n",
    "option = input(\"1 for Local game or 2 for Considtion game: \")\n",
    "\n",
    "match option:\n",
    "        case \"1\":\n",
    "                with open(f\"my_games\\{id_}.json\", 'r', encoding=\"utf8\") as f:\n",
    "                        game = json.load(f)\n",
    "        case \"2\":\n",
    "                game = getGame(id_)\n",
    "        case _:\n",
    "                print(\"Invalid choice.\")\n"
   ]
  },
  {
   "cell_type": "markdown",
   "metadata": {},
   "source": [
    "# Load Map and General data"
   ]
  },
  {
   "cell_type": "code",
   "execution_count": null,
   "metadata": {},
   "outputs": [],
   "source": [
    "##Get map data from Considition endpoint\n",
    "mapName = game[SK.mapName]\n",
    "mapEntity = getMapData(mapName, apiKey)\n",
    "\n",
    "##Get non map specific data from Considition endpoint\n",
    "generalData = getGeneralData()"
   ]
  },
  {
   "cell_type": "markdown",
   "metadata": {},
   "source": [
    "# Create map <br>\n",
    "Generates a simple visualization for a selected game. <br>\n",
    "Green circle: Location where one or more refill stations where placed. (Click on the circle for a pop up with info) <br>\n",
    "Blue circle: Location where no refill stations where placed. (Click on the circle for a pop up with info) <br>\n",
    "Red circle: Visual representation of footfall."
   ]
  },
  {
   "cell_type": "code",
   "execution_count": null,
   "metadata": {},
   "outputs": [],
   "source": [
    "MAP_CENTER = [\n",
    "    (mapEntity[\"border\"][\"latitudeMax\"] + mapEntity[\"border\"][\"latitudeMin\"]) / 2,\n",
    "    (mapEntity[\"border\"][\"longitudeMax\"] + mapEntity[\"border\"][\"longitudeMin\"]) / 2,\n",
    "]\n",
    "\n",
    "map_folium = folium.Map(\n",
    "    location=MAP_CENTER,\n",
    "    zoom_start=12,\n",
    "    tiles=\"cartodb positron\",\n",
    "    width=1200,\n",
    "    height=580,\n",
    ")\n",
    "\n",
    "for hot_spot in mapEntity[\"hotspots\"]:\n",
    "    folium.Circle(\n",
    "        [hot_spot[CK.latitude], hot_spot[CK.longitude]],\n",
    "        radius=hot_spot[\"spread\"],\n",
    "        opacity=0.2,\n",
    "        fill_opacity=0.4,\n",
    "        color=\"#FF5959\",\n",
    "        fill_color=\"#FF5959\",\n",
    "    ).add_to(map_folium)\n",
    "\n",
    "for key in mapEntity[LK.locations]:\n",
    "    if key not in game[LK.locations]:\n",
    "        loc = mapEntity[LK.locations][key]\n",
    "        t = loc[LK.locationType]\n",
    "        salesVol = loc[LK.salesVolume]\n",
    "        footfall = loc[LK.footfall]\n",
    "        folium.CircleMarker(\n",
    "            [\n",
    "                mapEntity[LK.locations][key][CK.latitude],\n",
    "                mapEntity[LK.locations][key][CK.longitude],\n",
    "            ],\n",
    "            radius=3,\n",
    "            color=\"#0080bb\",\n",
    "            fill_color=\"#0080bb\",\n",
    "        ).add_child(\n",
    "            folium.Popup(\n",
    "                f\"name: {key} <br> locationType: {t} <br> Sales: {salesVol} <br> footfall: {footfall}\",\n",
    "                min_width=300,\n",
    "                max_width=300,\n",
    "            )\n",
    "        ).add_to(\n",
    "            map_folium\n",
    "        )\n",
    "\n",
    "for key in game[LK.locations]:\n",
    "    loc = game[LK.locations][key]\n",
    "    t = loc[LK.locationType]\n",
    "    ftf = loc[LK.footfall]\n",
    "    fs9 = loc[LK.f9100Count]\n",
    "    fs3 = loc[LK.f3100Count]\n",
    "    sv = loc[LK.salesVolume]\n",
    "    sc = loc[LK.salesCapacity]\n",
    "    lc = loc[LK.leasingCost]\n",
    "    er = loc[SK.earnings]\n",
    "    folium.CircleMarker(\n",
    "        [\n",
    "            game[LK.locations][key][CK.latitude],\n",
    "            game[LK.locations][key][CK.longitude],\n",
    "        ],\n",
    "        radius=3,\n",
    "        color=\"#32a852\",\n",
    "        fill_color=\"#32a852\",\n",
    "    ).add_child(\n",
    "        folium.Popup(\n",
    "            f\"name: {key} <br> Location type: {t} <br> Nr freestyle9100: {fs9} <br> Nr freestyle3100: {fs3} <br> Sales efter scoring: {sv} <br> Refill capacity: {sc} <br> Leasing cost: {lc} <br> Footfall: {ftf} <br> Earnings: {er}\",\n",
    "            min_width=300,\n",
    "            max_width=300,\n",
    "        )\n",
    "    ).add_to(\n",
    "        map_folium\n",
    "    )\n",
    "\n",
    "print(game[SK.gameScore])\n",
    "map_folium"
   ]
  }
 ],
 "metadata": {
  "kernelspec": {
   "display_name": ".venv",
   "language": "python",
   "name": "python3"
  },
  "language_info": {
   "codemirror_mode": {
    "name": "ipython",
    "version": 3
   },
   "file_extension": ".py",
   "mimetype": "text/x-python",
   "name": "python",
   "nbconvert_exporter": "python",
   "pygments_lexer": "ipython3",
   "version": "3.11.4"
  },
  "orig_nbformat": 4
 },
 "nbformat": 4,
 "nbformat_minor": 2
}
